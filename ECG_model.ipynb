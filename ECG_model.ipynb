{
 "cells": [
  {
   "cell_type": "code",
   "execution_count": 1,
   "id": "4dbe3865-9c37-40b0-9016-e544ef91d373",
   "metadata": {},
   "outputs": [],
   "source": [
    "import pandas as pd\n",
    "import numpy as np\n",
    "from scipy.stats import uniform\n",
    "from xgboost import XGBClassifier\n",
    "from sklearn.ensemble import BaggingClassifier\n",
    "from sklearn.model_selection import RandomizedSearchCV\n",
    "from sklearn.metrics import classification_report\n",
    "from sklearn.experimental import enable_iterative_imputer\n",
    "from sklearn.impute import IterativeImputer\n",
    "import warnings\n",
    "\n",
    "warnings.filterwarnings('ignore')"
   ]
  },
  {
   "cell_type": "code",
   "execution_count": 2,
   "id": "732314ca-9d68-4bbb-8e17-4af22335de9a",
   "metadata": {},
   "outputs": [],
   "source": [
    "# Load the Training Dataset\n",
    "\n",
    "train_features_df = pd.read_csv('train_features.csv')\n",
    "train_labels_df = pd.read_csv('train_labels.csv')\n",
    "test_ids = pd.read_csv('test_ids.csv')\n",
    "test_feature_df = pd.read_csv('test_features.csv')\n",
    "\n",
    "# Extract target variable\n",
    "train_labels = train_labels_df['y']\n",
    "#train_data = train_data.drop(columns=['id', 'y'])\n"
   ]
  },
  {
   "cell_type": "code",
   "execution_count": 3,
   "id": "3565c8cf-a4f4-4d2b-81c5-b77600b15f70",
   "metadata": {},
   "outputs": [
    {
     "name": "stdout",
     "output_type": "stream",
     "text": [
      "Best Parameters for XGBClassifier: {'colsample_bytree': np.float64(0.9208787923016158), 'learning_rate': np.float64(0.032365193103931246), 'max_depth': 7, 'n_estimators': 700, 'subsample': np.float64(0.7693605922825478)}\n",
      "              precision    recall  f1-score   support\n",
      "\n",
      "           0       1.00      1.00      1.00      3030\n",
      "           1       1.00      1.00      1.00       443\n",
      "           2       1.00      1.00      1.00      1474\n",
      "           3       1.00      1.00      1.00       170\n",
      "\n",
      "    accuracy                           1.00      5117\n",
      "   macro avg       1.00      1.00      1.00      5117\n",
      "weighted avg       1.00      1.00      1.00      5117\n",
      "\n"
     ]
    }
   ],
   "source": [
    "# Model Training and Evaluation\n",
    "\n",
    "# replace or remove NaNs and Inf values\n",
    "train_features_df.replace([np.inf, -np.inf], np.nan, inplace=True)\n",
    "#train_features_df.fillna(train_features_df.mean(), inplace=True)\n",
    "test_feature_df.replace([np.inf, -np.inf], np.nan, inplace=True)\n",
    "#test_feature_df.fillna(test_feature_df.mean(), inplace=True)\n",
    "imp = IterativeImputer(n_nearest_features=15, max_iter=50)\n",
    "\n",
    "train_features_df = imp.fit_transform(train_features_df)\n",
    "test_feature_df = imp.transform(test_feature_df)\n",
    "\n",
    "\n",
    "param_dist_xgb = {\n",
    "    \"n_estimators\": [700],\n",
    "    \"learning_rate\": uniform(0.01, 0.3),\n",
    "    \"max_depth\": [3, 5, 7],\n",
    "    \"subsample\": uniform(0.6, 0.4),\n",
    "    \"colsample_bytree\": uniform(0.6, 0.4),\n",
    "}\n",
    "\n",
    "random_search_xgb = RandomizedSearchCV(\n",
    "    estimator=XGBClassifier(\n",
    "        random_state=42, n_jobs=-1, eval_metric=\"mlogloss\"\n",
    "    ),\n",
    "    param_distributions=param_dist_xgb,\n",
    "    n_iter=20,\n",
    "    scoring=\"accuracy\",\n",
    "    cv=3,\n",
    "    random_state=42,\n",
    "    n_jobs=-1,\n",
    ")\n",
    "\n",
    "random_search_xgb.fit(train_features_df, train_labels)\n",
    "\n",
    "print(\"Best Parameters for XGBClassifier:\", random_search_xgb.best_params_)\n",
    "\n",
    "best_xgb = random_search_xgb.best_estimator_\n",
    "bagging_clf = BaggingClassifier(estimator=best_xgb, n_estimators=150, random_state=42)\n",
    "\n",
    "bagging_clf.fit(train_features_df, train_labels)\n",
    "\n",
    "y_pred = bagging_clf.predict(train_features_df)\n",
    "print(classification_report(train_labels, y_pred))"
   ]
  },
  {
   "cell_type": "code",
   "execution_count": 4,
   "id": "92440483-5ca8-4967-b141-3d0f30ab772e",
   "metadata": {},
   "outputs": [
    {
     "name": "stdout",
     "output_type": "stream",
     "text": [
      "Predictions saved to submission.csv\n"
     ]
    }
   ],
   "source": [
    "# Predictions on Test Set\n",
    "test_predictions = bagging_clf.predict(test_feature_df)\n",
    "\n",
    "submission = pd.DataFrame({\n",
    "    'id': test_ids['id'], \n",
    "    'y': test_predictions\n",
    "})\n",
    "\n",
    "submission.to_csv('submission_f.csv', index=False)\n",
    "print(\"Predictions saved to submission_f.csv\")"
   ]
  }
 ],
 "metadata": {
  "kernelspec": {
   "display_name": "Python 3.12.10 64-bit",
   "language": "python",
   "name": "python3"
  },
  "language_info": {
   "codemirror_mode": {
    "name": "ipython",
    "version": 3
   },
   "file_extension": ".py",
   "mimetype": "text/x-python",
   "name": "python",
   "nbconvert_exporter": "python",
   "pygments_lexer": "ipython3",
   "version": "3.12.10"
  },
  "vscode": {
   "interpreter": {
    "hash": "e7370f93d1d0cde622a1f8e1c04877d8463912d04d973331ad4851f04de6915a"
   }
  }
 },
 "nbformat": 4,
 "nbformat_minor": 5
}
